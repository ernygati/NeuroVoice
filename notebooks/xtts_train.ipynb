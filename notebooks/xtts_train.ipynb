{
 "cells": [
  {
   "cell_type": "code",
   "execution_count": 9,
   "metadata": {},
   "outputs": [],
   "source": [
    "%reload_ext autoreload\n",
    "%autoreload 2\n",
    "import os\n",
    "import yaml\n",
    "if \"NeuroVoice\" != os.path.basename(os.getcwd()):\n",
    "    os.chdir(\"../\")\n",
    "from pipelines.train import TrainPipeline\n",
    "from IPython.display import Audio, display\n",
    "from models.tts.xtts_finetuner import XTTSFinetuner, OUTPUT_SAMPLE_RATE\n",
    "\n",
    "config = yaml.safe_load(open(\"configs/train/divertito.yaml\"))\n",
    "trainpipe = TrainPipeline(config)\n",
    "# trainpipe.train()"
   ]
  },
  {
   "cell_type": "markdown",
   "metadata": {},
   "source": [
    "# 3. Проверяем обученную модель"
   ]
  },
  {
   "cell_type": "code",
   "execution_count": 5,
   "metadata": {},
   "outputs": [
    {
     "name": "stderr",
     "output_type": "stream",
     "text": [
      "Fetching 18 files:   0%|          | 0/18 [00:00<?, ?it/s]/home/egatiyatullin/repos/NeuroVoice/.venv/lib/python3.10/site-packages/huggingface_hub/file_download.py:982: UserWarning: `local_dir_use_symlinks` parameter is deprecated and will be ignored. The process to download files to a local folder has been updated and do not rely on symlinks anymore. You only need to pass a destination folder as`local_dir`.\n",
      "For more details, check out https://huggingface.co/docs/huggingface_hub/main/en/guides/download#download-files-to-local-folder.\n",
      "  warnings.warn(\n",
      "Fetching 18 files: 100%|██████████| 18/18 [00:00<00:00, 402.95it/s]\n"
     ]
    }
   ],
   "source": [
    "checkpoint_path=\"out/divertito/xtts/best_model_v2.pth\"\n",
    "base_model_path = trainpipe.finetuner.load_base_model()\n",
    "model = trainpipe.finetuner.load_model(\n",
    "    trainpipe.device,\n",
    "    os.path.join(base_model_path,\"config.json\"),\n",
    "    checkpoint_path,\n",
    "    os.path.join(base_model_path, \"vocab.json\"),\n",
    "   os.path.join(base_model_path, \"speakers_xtts.pth\")\n",
    ")"
   ]
  },
  {
   "cell_type": "code",
   "execution_count": 10,
   "metadata": {},
   "outputs": [
    {
     "ename": "NameError",
     "evalue": "name 'OUTPUT_SAMPLE_RATE' is not defined",
     "output_type": "error",
     "traceback": [
      "\u001b[0;31m---------------------------------------------------------------------------\u001b[0m",
      "\u001b[0;31mNameError\u001b[0m                                 Traceback (most recent call last)",
      "Cell \u001b[0;32mIn[10], line 7\u001b[0m\n\u001b[1;32m      1\u001b[0m \u001b[38;5;66;03m# Generate audio\u001b[39;00m\n\u001b[1;32m      2\u001b[0m audio \u001b[38;5;241m=\u001b[39m trainpipe\u001b[38;5;241m.\u001b[39mfinetuner\u001b[38;5;241m.\u001b[39mgenerate_audio(\n\u001b[1;32m      3\u001b[0m     model,\n\u001b[1;32m      4\u001b[0m     \u001b[38;5;124m\"\u001b[39m\u001b[38;5;124mЭто, конечно, потешно блядь. Ты сладкий бубочка, а не уважающий себя мужчина, хахах\u001b[39m\u001b[38;5;124m\"\u001b[39m,\n\u001b[1;32m      5\u001b[0m     config[\u001b[38;5;124m\"\u001b[39m\u001b[38;5;124mdata\u001b[39m\u001b[38;5;124m\"\u001b[39m][\u001b[38;5;124m\"\u001b[39m\u001b[38;5;124mreference_audio\u001b[39m\u001b[38;5;124m\"\u001b[39m]\n\u001b[1;32m      6\u001b[0m )\n\u001b[0;32m----> 7\u001b[0m display(Audio(audio,  rate \u001b[38;5;241m=\u001b[39m \u001b[43mOUTPUT_SAMPLE_RATE\u001b[49m))\n",
      "\u001b[0;31mNameError\u001b[0m: name 'OUTPUT_SAMPLE_RATE' is not defined"
     ]
    }
   ],
   "source": [
    "# Generate audio\n",
    "audio = trainpipe.finetuner.generate_audio(\n",
    "    model,\n",
    "    \"Это, конечно, потешно блядь. Ты сладкий бубочка, а не уважающий себя мужчина, хахах\",\n",
    "    config[\"data\"][\"reference_audio\"]\n",
    ")\n",
    "display(Audio(audio,  rate = OUTPUT_SAMPLE_RATE))"
   ]
  }
 ],
 "metadata": {
  "kernelspec": {
   "display_name": "Python 3",
   "language": "python",
   "name": "python3"
  },
  "language_info": {
   "codemirror_mode": {
    "name": "ipython",
    "version": 3
   },
   "file_extension": ".py",
   "mimetype": "text/x-python",
   "name": "python",
   "nbconvert_exporter": "python",
   "pygments_lexer": "ipython3",
   "version": "3.10.15"
  }
 },
 "nbformat": 4,
 "nbformat_minor": 2
}
